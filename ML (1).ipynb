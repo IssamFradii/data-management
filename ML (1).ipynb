{
 "cells": [
  {
   "cell_type": "code",
   "execution_count": null,
   "id": "0fceb006-7930-4c34-8054-48e5e0e3314d",
   "metadata": {},
   "outputs": [],
   "source": [
    "import numpy as np\n",
    "import pandas as pd\n",
    "import seaborn as sns\n",
    "import matplotlib.pyplot as plt\n",
    "import matplotlib.pylab as pylab\n",
    "from sklearn.preprocessing import LabelEncoder\n",
    "from sklearn.model_selection import train_test_split"
   ]
  },
  {
   "cell_type": "markdown",
   "id": "cd888a67-418f-4b3e-b062-70b67626c7d6",
   "metadata": {},
   "source": [
    "# Model Building"
   ]
  },
  {
   "cell_type": "markdown",
   "id": "e68e4da8-52d9-4e22-9db9-7471903805fc",
   "metadata": {
    "tags": []
   },
   "source": [
    "## Train Test Split"
   ]
  },
  {
   "cell_type": "code",
   "execution_count": null,
   "id": "711a73cd-7d2b-4ce9-a644-7d0136ed42d3",
   "metadata": {},
   "outputs": [],
   "source": [
    "X =  df.drop('valeur fonciere', axis = 1)\n",
    "y =  df['valeur fonciere']"
   ]
  },
  {
   "cell_type": "code",
   "execution_count": null,
   "id": "a35cf668-e4c8-46af-8654-82e8411428c4",
   "metadata": {},
   "outputs": [],
   "source": [
    "X_train, X_test, y_train, y_test = train_test_split(X, y, test_size= 0.20, random_state = 12)\n"
   ]
  },
  {
   "cell_type": "markdown",
   "id": "c39d3b51-99b2-4bd3-bd8f-956c4eda7f32",
   "metadata": {},
   "source": [
    "On choisit le modele le plus optimal "
   ]
  },
  {
   "cell_type": "markdown",
   "id": "1689c998-bb36-405b-ae2e-48d8b97dfed5",
   "metadata": {},
   "source": [
    "### Linear Regression : "
   ]
  },
  {
   "cell_type": "code",
   "execution_count": null,
   "id": "6ed0f2ae-89d5-4853-bc99-4ca91296c940",
   "metadata": {},
   "outputs": [],
   "source": [
    "from sklearn.linear_model import LinearRegression\n",
    "\n",
    "linear = LinearRegression()\n",
    "linear.fit(X_train, y_train)\n",
    "\n",
    "print(\"Training Accuracy = \", linear.score(X_train, y_train))\n",
    "print(\"Test Accuracy     = \", linear.score(X_test, y_test))"
   ]
  },
  {
   "cell_type": "markdown",
   "id": "3b129e0d-de10-40ad-aaa6-98d1b3c592eb",
   "metadata": {},
   "source": [
    "### Decision Tree Regressor"
   ]
  },
  {
   "cell_type": "code",
   "execution_count": null,
   "id": "3393c80f-920d-453b-b230-807e8968ee24",
   "metadata": {},
   "outputs": [],
   "source": [
    "from sklearn.tree import DecisionTreeRegressor\n",
    "\n",
    "dt = DecisionTreeRegressor(min_samples_split=2)\n",
    "dt.fit(X_train, y_train)\n",
    "\n",
    "print(\"Training Accuracy = \", dt.score(X_train, y_train))\n",
    "print(\"Test Accuracy     = \", dt.score(X_test, y_test))"
   ]
  },
  {
   "cell_type": "markdown",
   "id": "9a0feaa4-2790-4838-b7fb-9d21967c12dd",
   "metadata": {},
   "source": [
    "### Random Forest Regressor"
   ]
  },
  {
   "cell_type": "code",
   "execution_count": null,
   "id": "c4813d18-2084-481d-ba78-bd308da9bcee",
   "metadata": {},
   "outputs": [],
   "source": [
    "from sklearn.ensemble import RandomForestRegressor\n",
    "\n",
    "rf = RandomForestRegressor(n_estimators = 1000, max_depth=5, random_state = 12)\n",
    "rf.fit(X_train, y_train);\n",
    "\n",
    "print(\"Training Accuracy = \", rf.score(X_train, y_train))\n",
    "print(\"Test Accuracy     = \", rf.score(X_test, y_test))"
   ]
  },
  {
   "cell_type": "markdown",
   "id": "ad65ca9c-21e7-4f86-ac28-535db0050b95",
   "metadata": {},
   "source": [
    "### Polynomial Features"
   ]
  },
  {
   "cell_type": "code",
   "execution_count": null,
   "id": "359f0379-5f82-4b53-a703-70c8e95d1a67",
   "metadata": {},
   "outputs": [],
   "source": [
    "from sklearn.pipeline import Pipeline\n",
    "from sklearn.preprocessing import PolynomialFeatures\n",
    "\n",
    "poly = PolynomialFeatures(degree=2)\n",
    "poly.fit_transform(X)\n",
    "\n",
    "# Define the pipeline and train model\n",
    "poly_model = Pipeline([('poly', PolynomialFeatures(degree=2)), ('linear', LinearRegression(fit_intercept=False))])\n",
    "poly_model.fit(X_train, y_train)\n",
    "\n",
    "# Calculate the Score\n",
    "print(\"Training Accuracy = \", poly_model.score(X_train, y_train))\n",
    "print(\"Test Accuracy     = \", poly_model.score(X_test, y_test))"
   ]
  },
  {
   "cell_type": "markdown",
   "id": "810dd0a2-4815-4791-88c3-5172a7bb2113",
   "metadata": {},
   "source": [
    "Apres on choisit the most accured test et on construit notre mdoele de prediction : "
   ]
  },
  {
   "cell_type": "markdown",
   "id": "6beebee5-45da-4842-ac13-d921fa1818a3",
   "metadata": {},
   "source": [
    "# Final Model "
   ]
  },
  {
   "cell_type": "markdown",
   "id": "41b5b041-4d95-46b5-b972-9e4a8f72b8d1",
   "metadata": {},
   "source": [
    "On prend par exemple Polynomial Feature pour predire les prix :"
   ]
  },
  {
   "cell_type": "code",
   "execution_count": null,
   "id": "8e9443e4-a53f-481a-9ac4-01591bd0790d",
   "metadata": {},
   "outputs": [],
   "source": [
    "def evaluate(model, test_features, test_labels):\n",
    "    predictions = model.predict(test_features)\n",
    "    errors = abs(predictions - test_labels)\n",
    "    accuracy = model.score(test_features, test_labels)\n",
    "\n",
    "    print('Average Error  = {:0.4f} degrees'.format(np.mean(errors)))\n",
    "    print('Model Accuracy = {:0.4f} %'.format(accuracy))"
   ]
  },
  {
   "cell_type": "code",
   "execution_count": null,
   "id": "441b327a-370e-4d6c-b5c1-348d1afdf787",
   "metadata": {},
   "outputs": [],
   "source": [
    "evaluate(poly_model, X_train, y_train)"
   ]
  },
  {
   "cell_type": "code",
   "execution_count": null,
   "id": "ef09cd51-4e36-4426-bab1-70e49eb81943",
   "metadata": {},
   "outputs": [],
   "source": [
    "evaluate(poly_model, X_test, y_test)"
   ]
  },
  {
   "cell_type": "markdown",
   "id": "e7811d96-af7b-487e-b340-79000a56b001",
   "metadata": {
    "tags": []
   },
   "source": [
    "## Visualizing Results "
   ]
  },
  {
   "cell_type": "code",
   "execution_count": null,
   "id": "af221220-829c-4a20-907f-405f38b8600e",
   "metadata": {},
   "outputs": [],
   "source": [
    "pred = poly_model.predict(X_test)\n"
   ]
  },
  {
   "cell_type": "code",
   "execution_count": null,
   "id": "e039c61e-03fb-40ed-bfbf-8ca443ec860a",
   "metadata": {},
   "outputs": [],
   "source": [
    "fig = plt.figure(figsize=(8,7))\n",
    "\n",
    "sns.scatterplot(y_test, pred)\n",
    "fig.suptitle('Prediction using Polynomial', fontsize= 18 , fontweight='bold')\n",
    "plt.xlabel(\"Actual\")\n",
    "plt.ylabel(\"Prediction\")\n",
    "pylab.rcParams.update(rcParams)\n",
    "fig.tight_layout()\n",
    "fig.subplots_adjust(top=0.92)\n",
    "plt.show()"
   ]
  }
 ],
 "metadata": {
  "kernelspec": {
   "display_name": "Python 3 (ipykernel)",
   "language": "python",
   "name": "python3"
  },
  "language_info": {
   "codemirror_mode": {
    "name": "ipython",
    "version": 3
   },
   "file_extension": ".py",
   "mimetype": "text/x-python",
   "name": "python",
   "nbconvert_exporter": "python",
   "pygments_lexer": "ipython3",
   "version": "3.11.5"
  }
 },
 "nbformat": 4,
 "nbformat_minor": 5
}
